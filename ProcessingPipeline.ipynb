{
 "cells": [
  {
   "cell_type": "markdown",
   "id": "ac23d14c",
   "metadata": {},
   "source": [
    "# Connect to DB"
   ]
  },
  {
   "cell_type": "code",
   "execution_count": null,
   "id": "3b5cce7a",
   "metadata": {
    "scrolled": true
   },
   "outputs": [],
   "source": [
    "%load_ext sql"
   ]
  },
  {
   "cell_type": "code",
   "execution_count": null,
   "id": "31793a5d",
   "metadata": {},
   "outputs": [],
   "source": [
    "import os"
   ]
  },
  {
   "cell_type": "code",
   "execution_count": null,
   "id": "037f446b",
   "metadata": {},
   "outputs": [],
   "source": [
    "host = \"localhost\"\n",
    "database = \"postgres\"\n",
    "user = os.getenv('SQL_USER')\n",
    "password = os.getenv('SQL_PASSWORD')"
   ]
  },
  {
   "cell_type": "code",
   "execution_count": null,
   "id": "53177128",
   "metadata": {},
   "outputs": [],
   "source": [
    "connection_string = f\"postgresql://{user}:{password}@{host}/{database}\""
   ]
  },
  {
   "cell_type": "code",
   "execution_count": null,
   "id": "1d2dc69f",
   "metadata": {},
   "outputs": [],
   "source": [
    "from sqlalchemy import create_engine"
   ]
  },
  {
   "cell_type": "code",
   "execution_count": null,
   "id": "e00b3547",
   "metadata": {},
   "outputs": [],
   "source": [
    "#Create connection\n",
    "engine = create_engine(connection_string)"
   ]
  },
  {
   "cell_type": "code",
   "execution_count": null,
   "id": "d2e26c51",
   "metadata": {},
   "outputs": [],
   "source": [
    "from sqlalchemy import inspect"
   ]
  },
  {
   "cell_type": "code",
   "execution_count": null,
   "id": "95784ce6",
   "metadata": {},
   "outputs": [],
   "source": [
    "#Check connection\n",
    "insp = inspect(engine)\n",
    "insp.get_table_names()"
   ]
  },
  {
   "cell_type": "code",
   "execution_count": null,
   "id": "358b7db2",
   "metadata": {},
   "outputs": [],
   "source": [
    "import pandas as pd"
   ]
  },
  {
   "cell_type": "code",
   "execution_count": null,
   "id": "0049e734",
   "metadata": {},
   "outputs": [],
   "source": [
    "df = pd.read_sql('SELECT * FROM flickr_edin', engine)"
   ]
  },
  {
   "cell_type": "code",
   "execution_count": null,
   "id": "6211ce16",
   "metadata": {
    "scrolled": true
   },
   "outputs": [],
   "source": [
    "#Word count of tags with duplicates\n",
    "words = []\n",
    "for x in range(len(df)):\n",
    "    tags = df.usertags[x]\n",
    "    removeBar = tags.split(\"|\")\n",
    "    \n",
    "    for i in range(len(removeBar)):\n",
    "        tmp = removeBar[i].split(\" \")\n",
    "        \n",
    "        for j in range(len(tmp)):\n",
    "            words.append(tmp[j])\n",
    "\n",
    "print(len(words))"
   ]
  },
  {
   "cell_type": "code",
   "execution_count": null,
   "id": "10a24105",
   "metadata": {
    "scrolled": true
   },
   "outputs": [],
   "source": [
    "#Word count of tags without duplicates\n",
    "words = []\n",
    "for x in range(len(df)):\n",
    "    tags = df.usertags[x]\n",
    "    #print(tags)\n",
    "    removeBar = tags.split(\"|\")\n",
    "\n",
    "    for i in range(len(removeBar)):\n",
    "        tmp = removeBar[i].split(\" \")\n",
    "        \n",
    "        for j in range(len(tmp)):\n",
    "            words.append(tmp[j])\n",
    "\n",
    "#remove duplicates\n",
    "words = list(dict.fromkeys(words))\n",
    "\n",
    "print(len(words))"
   ]
  },
  {
   "cell_type": "markdown",
   "id": "49e34b80",
   "metadata": {},
   "source": [
    "# Create graphs"
   ]
  },
  {
   "cell_type": "code",
   "execution_count": null,
   "id": "c1d8bfee",
   "metadata": {},
   "outputs": [],
   "source": [
    "#Generate bar chart of the number of photos per day\n",
    "import pandas as pd\n",
    "from plotly.subplots import make_subplots\n",
    "import plotly.express as px\n",
    "import plotly.graph_objs as go\n",
    "import plotly.io as pio\n",
    "from datetime import date\n",
    "import calendar\n",
    "\n",
    "#Data from database\n",
    "data = pd.read_sql('SELECT date_taken, id FROM flickr_edin', engine)\n",
    "daysNum = []\n",
    "ids = []\n",
    "\n",
    "#Add days of week and ids into separate lists\n",
    "for i in data.index:\n",
    "    daysNum.append(data.loc[i, 'date_taken'].weekday())\n",
    "    ids.append(data.loc[i, 'id'])\n",
    "\n",
    "#Create dataframe with days of week and ids\n",
    "d = {'Day of week': daysNum, 'Id': ids}\n",
    "df = pd.DataFrame(d)\n",
    "dfg = df.groupby('Day of week').count().reset_index()\n",
    "dfg = dfg.rename(columns={\"Id\": \"Frequency\"})\n",
    "\n",
    "for i in dfg.index:\n",
    "    dfg['Day of week'] = dfg['Day of week'].replace([i], calendar.day_name[i])\n",
    "    \n",
    "#Plot stucture\n",
    "fig = px.bar(dfg,\n",
    "             x='Day of week',\n",
    "             y='Frequency',\n",
    "             title='Number of photos per day of the week',\n",
    "             color='Day of week',\n",
    "             barmode='stack')\n",
    "\n",
    "#Plot\n",
    "fig.show()"
   ]
  },
  {
   "cell_type": "code",
   "execution_count": null,
   "id": "1de10561",
   "metadata": {},
   "outputs": [],
   "source": [
    "#Generate a bar chart showing how many images were uploaded each month\n",
    "import pandas as pd\n",
    "from plotly.subplots import make_subplots\n",
    "import plotly.express as px\n",
    "import plotly.graph_objs as go\n",
    "import plotly.io as pio\n",
    "from datetime import date\n",
    "import calendar\n",
    "\n",
    "#Data from database\n",
    "data = pd.read_sql('SELECT date_taken, id FROM flickr_edin', engine)\n",
    "monthsNum = []\n",
    "ids = []\n",
    "\n",
    "#Add days of week and ids into separate lists\n",
    "for i in data.index:\n",
    "    monthsNum.append(data.loc[i, 'date_taken'].month)\n",
    "    ids.append(data.loc[i, 'id'])\n",
    "\n",
    "#Create dataframe with days of week and ids\n",
    "d = {'Month': monthsNum, 'Id': ids}\n",
    "df = pd.DataFrame(d)\n",
    "dfg = df.groupby('Month').count().reset_index()\n",
    "dfg = dfg.rename(columns={\"Id\": \"Frequency\"})\n",
    "\n",
    "for i in dfg.index + 1:\n",
    "    dfg['Month'] = dfg['Month'].replace([i], calendar.month_name[i])\n",
    "    \n",
    "#Plot stucture\n",
    "fig = px.bar(dfg,\n",
    "             x='Month',\n",
    "             y='Frequency',\n",
    "             title='Number Of Images Uploaded Per Month',\n",
    "             #color='Month',\n",
    "             barmode='stack')\n",
    "\n",
    "#Plot\n",
    "fig.show()"
   ]
  },
  {
   "cell_type": "markdown",
   "id": "77b26576",
   "metadata": {},
   "source": [
    "# Calculate TF-IDF"
   ]
  },
  {
   "cell_type": "code",
   "execution_count": null,
   "id": "cbb7bfe7",
   "metadata": {},
   "outputs": [],
   "source": [
    "#Get tags with corressponding row and col - limited user tag usage\n",
    "tagPerGrid = pd.read_sql('SELECT userid, tag, row, col FROM tags_per_grid_250m GROUP BY tag, userid, row, col ORDER BY row,col', engine)"
   ]
  },
  {
   "cell_type": "code",
   "execution_count": null,
   "id": "ff37c807",
   "metadata": {},
   "outputs": [],
   "source": [
    "#Get tags with corressponding row and col - tag occurance\n",
    "#tagPerGrid = pd.read_sql('SELECT userid, tag, row, col FROM tags_per_grid_250m ORDER BY row,col', engine)"
   ]
  },
  {
   "cell_type": "code",
   "execution_count": null,
   "id": "81c33dfb",
   "metadata": {},
   "outputs": [],
   "source": [
    "#Remove spaces\n",
    "tagPerGrid['tag'] = tagPerGrid['tag'].str.replace(' ', '')"
   ]
  },
  {
   "cell_type": "code",
   "execution_count": null,
   "id": "4f280766",
   "metadata": {},
   "outputs": [],
   "source": [
    "#Create dictionary with the grid cell as the key and the value as a list of tags in the grid cell\n",
    "\n",
    "allTagsInGrid = {} #Create dictionary\n",
    "firstKey = str(tagPerGrid.loc[0, 'row']) + \",\" + str(tagPerGrid.loc[0, 'col']) #Get the first key\n",
    "allTagsInGrid[firstKey] = [] #Add the first key with an empty list as its value to the dictionary\n",
    "\n",
    "for i in tagPerGrid.index: #Loop for every tag \n",
    "    row = tagPerGrid.loc[i, 'row']\n",
    "    col = tagPerGrid.loc[i, 'col']\n",
    "    tmpKey = str(row) + \",\" + str(col) #Create the key from the row and column \n",
    "    \n",
    "    if tmpKey in allTagsInGrid: #If the key exists, append the tag to the list \n",
    "        allTagsInGrid[tmpKey].append(tagPerGrid.loc[i, 'tag'])\n",
    "    else: #If the key does not exist, add the key with an empty list and then append the tag\n",
    "        allTagsInGrid[tmpKey] = []\n",
    "        allTagsInGrid[tmpKey].append(tagPerGrid.loc[i, 'tag'])"
   ]
  },
  {
   "cell_type": "code",
   "execution_count": null,
   "id": "2daa5efe",
   "metadata": {
    "scrolled": true
   },
   "outputs": [],
   "source": [
    "#Get the unique tags for each grid\n",
    "uniqueTags = allTagsInGrid.copy()\n",
    "keys = list(uniqueTags.keys())\n",
    "\n",
    "for i in uniqueTags:\n",
    "    tmpTags = uniqueTags[i]\n",
    "    tmpUnique = list(dict.fromkeys(tmpTags))\n",
    "    uniqueTags[i] = tmpUnique"
   ]
  },
  {
   "cell_type": "code",
   "execution_count": null,
   "id": "01044918",
   "metadata": {
    "scrolled": false
   },
   "outputs": [],
   "source": [
    "#Count how many times each tag occurs in the grid\n",
    "count = []\n",
    "\n",
    "for i in uniqueTags:\n",
    "    tmpUniqueTags = uniqueTags[i]\n",
    "    tmpAllTags = allTagsInGrid[i]\n",
    "    for j in tmpUniqueTags:\n",
    "        count.append(tmpAllTags.count(j))"
   ]
  },
  {
   "cell_type": "code",
   "execution_count": null,
   "id": "8ce9e8b6",
   "metadata": {},
   "outputs": [],
   "source": [
    "#Create tags with tagCount as a dataframe\n",
    "tags = []\n",
    "grids = []\n",
    "\n",
    "for i in uniqueTags:\n",
    "    tmpTags = uniqueTags[i]\n",
    "    for j in tmpTags:\n",
    "        tags.append(j)\n",
    "        grids.append(i)\n",
    "\n",
    "tmp = {'Word': tags, 'Grid': grids, 'CountInGrid': count}\n",
    "tagCount = pd.DataFrame(tmp)"
   ]
  },
  {
   "cell_type": "code",
   "execution_count": null,
   "id": "6fe6ddea",
   "metadata": {},
   "outputs": [],
   "source": [
    "#Calculate TF\n",
    "tf = []\n",
    "for i in range(len(tagCount)):\n",
    "    theCount = tagCount.loc[i, 'CountInGrid']\n",
    "    theGrid = tagCount.loc[i, 'Grid']\n",
    "    numOfTagsInGrid = len(allTagsInGrid[theGrid])\n",
    "    \n",
    "    tf.append(theCount/numOfTagsInGrid)"
   ]
  },
  {
   "cell_type": "code",
   "execution_count": null,
   "id": "3889a746",
   "metadata": {},
   "outputs": [],
   "source": [
    "#Add to dataframe\n",
    "tagCount['TF'] = tf"
   ]
  },
  {
   "cell_type": "code",
   "execution_count": null,
   "id": "20981d0d",
   "metadata": {},
   "outputs": [],
   "source": [
    "#Calculate number of times each tag occurs in a grid\n",
    "numOfGridsWithTag = [] #Create an emtpy list to store the number of grids a tag occurs in\n",
    "tags = [] #Create an emtpy list to store all the tags\n",
    "keys = list(uniqueTags.keys()) #Get the keys from the dictionary \n",
    "\n",
    "for i in uniqueTags: #Loop for the entire dictionary \n",
    "    tmpTags = uniqueTags[i] #Get the tags with the current key\n",
    "    for j in tmpTags: #Loop for each tag\n",
    "        tags.append(j) #Append the tag to the list\n",
    "        \n",
    "for i in tags: #loop for each tag\n",
    "    count = 0 \n",
    "    for j in keys: #loop for each key\n",
    "        if i in allTagsInGrid[j]: #Check if tag is in grid\n",
    "            count += 1 #If the tag is in the grid, add one to the count\n",
    "    numOfGridsWithTag.append(count) #Append the count to the list\n"
   ]
  },
  {
   "cell_type": "code",
   "execution_count": null,
   "id": "c0f84bab",
   "metadata": {},
   "outputs": [],
   "source": [
    "#Add to dataframe\n",
    "tagCount[\"CountInAllGrids\"] = numOfGridsWithTag"
   ]
  },
  {
   "cell_type": "code",
   "execution_count": null,
   "id": "76cb7fb1",
   "metadata": {},
   "outputs": [],
   "source": [
    "#Calculate IDF\n",
    "import math\n",
    "idf = []\n",
    "totalNumOfGrids = len(uniqueTags)\n",
    "\n",
    "for i in range(len(numOfGridsWithTag)):\n",
    "    tmp = math.log(totalNumOfGrids/numOfGridsWithTag[i])\n",
    "    idf.append(tmp)"
   ]
  },
  {
   "cell_type": "code",
   "execution_count": null,
   "id": "0f72ddd6",
   "metadata": {},
   "outputs": [],
   "source": [
    "#Add to dataframe\n",
    "tagCount[\"IDF\"] = idf"
   ]
  },
  {
   "cell_type": "code",
   "execution_count": null,
   "id": "e97bec20",
   "metadata": {},
   "outputs": [],
   "source": [
    "#Calculate TF-IDF\n",
    "tfidf = []\n",
    "\n",
    "for i in range(len(tagCount)):\n",
    "    tmp = tagCount.loc[i, 'TF'] * tagCount.loc[i, 'IDF']\n",
    "    tfidf.append(tmp)"
   ]
  },
  {
   "cell_type": "code",
   "execution_count": null,
   "id": "27b86710",
   "metadata": {},
   "outputs": [],
   "source": [
    "#Add to dataframe\n",
    "tagCount['TF-IDF'] = tfidf"
   ]
  },
  {
   "cell_type": "code",
   "execution_count": null,
   "id": "84224358",
   "metadata": {},
   "outputs": [],
   "source": [
    "#Get the highest weighted tag for each grid\n",
    "grids = list(uniqueTags.keys())\n",
    "tags = []\n",
    "\n",
    "for i in range(len(grids)):\n",
    "    tagsInGrid = tagCount[tagCount['Grid']==grids[i]] #get tags in the grid\n",
    "    sortedTagsInGrid =  tagsInGrid.sort_values(by=['TF-IDF'], ascending=False) #sort the tags in grid by tf-idf\n",
    "    highestWeight = sortedTagsInGrid.head(1).reset_index() #Get row with highest weight\n",
    "    tags.append(highestWeight.loc[0,'Word']) #get the tag and append it to the tags list"
   ]
  },
  {
   "cell_type": "code",
   "execution_count": null,
   "id": "7335229f",
   "metadata": {},
   "outputs": [],
   "source": [
    "#Get the grids with their geom\n",
    "gridsWithGeom = pd.read_sql('SELECT row, col, geom FROM flickrgrid_250m GROUP BY geom, row, col ORDER BY row, col', engine)"
   ]
  },
  {
   "cell_type": "code",
   "execution_count": null,
   "id": "559e9b8b",
   "metadata": {},
   "outputs": [],
   "source": [
    "#Remove grids which are not in the dataframe (i.e. grids which have a flickr image inside it but does not have a tag)\n",
    "removeRow = []\n",
    "\n",
    "for i in range(len(gridsWithGeom)):\n",
    "    tmpGrid = str(gridsWithGeom.loc[i, 'row']) + \",\" + str(gridsWithGeom.loc[i, 'col'])\n",
    "    for j in grids: #Check if the grid is in the list of grids\n",
    "        if tmpGrid == j:\n",
    "            contains = True\n",
    "            break\n",
    "        else:\n",
    "            contains = False\n",
    "    if contains == False: #If the grid is not in the list of grids, add the index to the list\n",
    "        removeRow.append(i)\n",
    "\n",
    "gridsWithGeom = gridsWithGeom.drop(gridsWithGeom.index[removeRow]) #Remove rows "
   ]
  },
  {
   "cell_type": "code",
   "execution_count": null,
   "id": "2335b507",
   "metadata": {},
   "outputs": [],
   "source": [
    "#Add to dataframe\n",
    "gridsWithGeom['tag']=tags"
   ]
  },
  {
   "cell_type": "code",
   "execution_count": null,
   "id": "3dece82b",
   "metadata": {},
   "outputs": [],
   "source": [
    "#Reorder columns\n",
    "cols = gridsWithGeom.columns.tolist()\n",
    "cols = cols[-1:] + cols[:-1]\n",
    "gridsWithGeom = gridsWithGeom[cols]"
   ]
  },
  {
   "cell_type": "code",
   "execution_count": null,
   "id": "20c0fcab",
   "metadata": {
    "scrolled": true
   },
   "outputs": [],
   "source": [
    "#Reset index\n",
    "gridsWithGeom = gridsWithGeom.reset_index()"
   ]
  },
  {
   "cell_type": "code",
   "execution_count": null,
   "id": "b10c2ba8",
   "metadata": {
    "scrolled": false
   },
   "outputs": [],
   "source": [
    "#Remove index column\n",
    "gridsWithGeom = gridsWithGeom.drop(columns=['index'])"
   ]
  },
  {
   "cell_type": "code",
   "execution_count": null,
   "id": "1656148e",
   "metadata": {},
   "outputs": [],
   "source": [
    "#Create table in database\n",
    "gridsWithGeom.to_sql(name = 'highest_weight_grid_250m_v2',\n",
    "                     con = engine,\n",
    "                     if_exists='replace',\n",
    "                     index=False\n",
    "                    )"
   ]
  }
 ],
 "metadata": {
  "kernelspec": {
   "display_name": "Python 3 (ipykernel)",
   "language": "python",
   "name": "python3"
  },
  "language_info": {
   "codemirror_mode": {
    "name": "ipython",
    "version": 3
   },
   "file_extension": ".py",
   "mimetype": "text/x-python",
   "name": "python",
   "nbconvert_exporter": "python",
   "pygments_lexer": "ipython3",
   "version": "3.10.0"
  }
 },
 "nbformat": 4,
 "nbformat_minor": 5
}
